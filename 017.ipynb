{
 "cells": [
  {
   "cell_type": "markdown",
   "metadata": {},
   "source": [
    "# Problem 17 \n",
    "\n",
    "If the numbers 1 to 5 are written out in words: one, two, three, four, five, then there are 3 + 3 + 5 + 4 + 4 = 19 letters used in total.\n",
    "\n",
    "If all the numbers from 1 to 1000 (one thousand) inclusive were written out in words, how many letters would be used?\n",
    "\n",
    "\n",
    "NOTE: Do not count spaces or hyphens. For example, 342 (three hundred and forty-two) contains 23 letters and 115 (one hundred and fifteen) contains 20 letters. The use of \"and\" when writing out numbers is in compliance with British usage."
   ]
  },
  {
   "cell_type": "code",
   "execution_count": 13,
   "metadata": {},
   "outputs": [
    {
     "data": {
      "text/plain": [
       "21124"
      ]
     },
     "execution_count": 13,
     "metadata": {},
     "output_type": "execute_result"
    }
   ],
   "source": [
    "def number_to_words(n):\n",
    "  if n == 0: return \"\"\n",
    "  if n == 1: return \"one\"\n",
    "  if n == 2: return \"two\"\n",
    "  if n == 3: return \"three\"\n",
    "  if n == 4: return \"four\"\n",
    "  if n == 5: return \"five\"\n",
    "  if n == 6: return \"six\"\n",
    "  if n == 7: return \"seven\"\n",
    "  if n == 8: return \"eight\"\n",
    "  if n == 9: return \"nine\"\n",
    "  if n == 10: return \"ten\"\n",
    "  if n == 11: return \"eleven\"\n",
    "  if n == 12: return \"twelve\"\n",
    "  if n == 13: return \"thirteen\"\n",
    "  if n == 14: return \"fourteen\"\n",
    "  if n == 15: return \"fifteen\"\n",
    "  if n == 16: return \"sixteen\"\n",
    "  if n == 17: return \"seventeen\"\n",
    "  if n == 18: return \"eighteen\"\n",
    "  if n == 19: return \"nineteen\"\n",
    "\n",
    "  if 20 <= n < 30: return \"twenty\" + number_to_words(n-20)\n",
    "  if 30 <= n < 40: return \"thirty\" + number_to_words(n-30)\n",
    "  if 40 <= n < 50: return \"forty\" + number_to_words(n-40)\n",
    "  if 50 <= n < 60: return \"fifty\" + number_to_words(n-50)\n",
    "  if 60 <= n < 70: return \"sixty\" + number_to_words(n-60)\n",
    "  if 70 <= n < 80: return \"seventy\" + number_to_words(n-70)\n",
    "  if 80 <= n < 90: return \"eighty\" + number_to_words(n-80)\n",
    "  if 90 <= n < 100: return \"ninety\" + number_to_words(n-90)\n",
    "    \n",
    "  if n == 100: return \"onehundred\"\n",
    "  if n == 200: return \"twohundred\"\n",
    "  if n == 300: return \"threehundred\"\n",
    "  if n == 400: return \"fourhundred\"\n",
    "  if n == 500: return \"fivehundred\"\n",
    "  if n == 600: return \"sixhundred\"\n",
    "  if n == 700: return \"sevenhundred\"\n",
    "  if n == 800: return \"eighthundred\"\n",
    "  if n == 900: return \"ninehundred\"\n",
    "  if n == 1000: return \"onethousand\"\n",
    "    \n",
    "  if 100 <= n < 1000: return number_to_words(n//100) + \"hundredand\" + number_to_words(n % 100)\n",
    "    \n",
    "len(\"\".join(number_to_words(n) for n in range(1, 1001)))"
   ]
  }
 ],
 "metadata": {
  "kernelspec": {
   "display_name": "Python 3",
   "language": "python",
   "name": "python3"
  },
  "language_info": {
   "codemirror_mode": {
    "name": "ipython",
    "version": 3
   },
   "file_extension": ".py",
   "mimetype": "text/x-python",
   "name": "python",
   "nbconvert_exporter": "python",
   "pygments_lexer": "ipython3",
   "version": "3.6.2"
  }
 },
 "nbformat": 4,
 "nbformat_minor": 2
}

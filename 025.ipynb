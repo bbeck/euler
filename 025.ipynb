{
 "cells": [
  {
   "cell_type": "markdown",
   "metadata": {},
   "source": [
    "# Problem 25\n",
    "\n",
    "The Fibonacci sequence is defined by the recurrence relation:\n",
    "\n",
    "F<sub>n</sub> = F<sub>n−1</sub> + F<sub>n−2</sub>, where F<sub>1</sub> = 1 and F<sub>2</sub> = 1.\n",
    "\n",
    "Hence the first 12 terms will be:\n",
    "\n",
    "F<sub>1</sub> = 1<br/>\n",
    "F<sub>2</sub> = 1<br/>\n",
    "F<sub>3</sub> = 2<br/>\n",
    "F<sub>4</sub> = 3<br/>\n",
    "F<sub>5</sub> = 5<br/>\n",
    "F<sub>6</sub> = 8<br/>\n",
    "F<sub>7</sub> = 13<br/>\n",
    "F<sub>8</sub> = 21<br/>\n",
    "F<sub>9</sub> = 34<br/>\n",
    "F<sub>10</sub> = 55<br/>\n",
    "F<sub>11</sub> = 89<br/>\n",
    "F<sub>12</sub> = 144<br/>\n",
    "\n",
    "The 12th term, F<sub>12</sub>, is the first term to contain three digits.\n",
    "\n",
    "What is the index of the first term in the Fibonacci sequence to contain 1000 digits?"
   ]
  },
  {
   "cell_type": "code",
   "execution_count": 4,
   "metadata": {},
   "outputs": [
    {
     "data": {
      "text/plain": [
       "1000"
      ]
     },
     "execution_count": 4,
     "metadata": {},
     "output_type": "execute_result"
    }
   ],
   "source": [
    "a = b = i = 1\n",
    "while a < 10**999:\n",
    "  \n"
   ]
  }
 ],
 "metadata": {
  "kernelspec": {
   "display_name": "Python 3",
   "language": "python",
   "name": "python3"
  },
  "language_info": {
   "codemirror_mode": {
    "name": "ipython",
    "version": 3
   },
   "file_extension": ".py",
   "mimetype": "text/x-python",
   "name": "python",
   "nbconvert_exporter": "python",
   "pygments_lexer": "ipython3",
   "version": "3.6.2"
  }
 },
 "nbformat": 4,
 "nbformat_minor": 2
}

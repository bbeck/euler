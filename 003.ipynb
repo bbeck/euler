{
 "cells": [
  {
   "cell_type": "markdown",
   "metadata": {},
   "source": [
    "# Problem 3\n",
    "\n",
    "The prime factors of 13195 are 5, 7, 13 and 29.\n",
    "\n",
    "What is the largest prime factor of the number 600,851,475,143?"
   ]
  },
  {
   "cell_type": "code",
   "execution_count": 3,
   "metadata": {},
   "outputs": [],
   "source": [
    "import io\n",
    "import itertools\n",
    "import requests\n",
    "import zipfile\n",
    "\n",
    "def primes(n=None, primes=[]):\n",
    "  if not primes:\n",
    "    for i in range(1, 33):\n",
    "      r = requests.get(\"http://primes.utm.edu/lists/small/millions/primes\" + str(i) + \".zip\")\n",
    "      z = zipfile.ZipFile(io.BytesIO(r.content))\n",
    "      bs = z.read(z.namelist()[0])\n",
    "      lines = bs.split(b\"\\n\")[2:]\n",
    "\n",
    "      for line in bs.split(b\"\\n\")[2:]:\n",
    "        for num in line.strip().split(b\" \"):\n",
    "          if not num:\n",
    "            continue\n",
    "\n",
    "          primes.append(int(num))\n",
    "\n",
    "  return itertools.takewhile(lambda x: x < n if n is not None else True, primes)"
   ]
  },
  {
   "cell_type": "code",
   "execution_count": 4,
   "metadata": {},
   "outputs": [
    {
     "data": {
      "text/plain": [
       "6857"
      ]
     },
     "execution_count": 4,
     "metadata": {},
     "output_type": "execute_result"
    }
   ],
   "source": [
    "def largest_prime_factor(n):\n",
    "  last = None\n",
    "  for prime in primes(n):\n",
    "    if n % prime == 0:\n",
    "      last = prime\n",
    "      \n",
    "    if prime > n:\n",
    "      break\n",
    "\n",
    "  return last\n",
    "\n",
    "largest_prime_factor(600851475143)"
   ]
  }
 ],
 "metadata": {
  "kernelspec": {
   "display_name": "Python 3",
   "language": "python",
   "name": "python3"
  },
  "language_info": {
   "codemirror_mode": {
    "name": "ipython",
    "version": 3
   },
   "file_extension": ".py",
   "mimetype": "text/x-python",
   "name": "python",
   "nbconvert_exporter": "python",
   "pygments_lexer": "ipython3",
   "version": "3.6.2"
  }
 },
 "nbformat": 4,
 "nbformat_minor": 2
}

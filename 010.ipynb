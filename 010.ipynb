{
 "cells": [
  {
   "cell_type": "markdown",
   "metadata": {},
   "source": [
    "# Problem 10 \n",
    "\n",
    "The sum of the primes below 10 is 2 + 3 + 5 + 7 = 17.\n",
    "\n",
    "Find the sum of all the primes below two million."
   ]
  },
  {
   "cell_type": "code",
   "execution_count": 5,
   "metadata": {
    "collapsed": true
   },
   "outputs": [],
   "source": [
    "import io\n",
    "import itertools\n",
    "import requests\n",
    "import zipfile\n",
    "\n",
    "def primes(n=None, primes=[]):\n",
    "  if not primes:\n",
    "    for i in range(1, 10):\n",
    "      r = requests.get(\"http://primes.utm.edu/lists/small/millions/primes\" + str(i) + \".zip\")\n",
    "      z = zipfile.ZipFile(io.BytesIO(r.content))\n",
    "      bs = z.read(z.namelist()[0])\n",
    "      lines = bs.split(b\"\\n\")[2:]\n",
    "\n",
    "      for line in bs.split(b\"\\n\")[2:]:\n",
    "        for num in line.strip().split(b\" \"):\n",
    "          if not num:\n",
    "            continue\n",
    "\n",
    "          primes.append(int(num))\n",
    "\n",
    "  return itertools.takewhile(lambda x: x < n if n is not None else True, primes)"
   ]
  },
  {
   "cell_type": "code",
   "execution_count": 6,
   "metadata": {},
   "outputs": [
    {
     "data": {
      "text/plain": [
       "142913828922"
      ]
     },
     "execution_count": 6,
     "metadata": {},
     "output_type": "execute_result"
    }
   ],
   "source": [
    "sum(primes(2000000))"
   ]
  }
 ],
 "metadata": {
  "kernelspec": {
   "display_name": "Python 3",
   "language": "python",
   "name": "python3"
  },
  "language_info": {
   "codemirror_mode": {
    "name": "ipython",
    "version": 3
   },
   "file_extension": ".py",
   "mimetype": "text/x-python",
   "name": "python",
   "nbconvert_exporter": "python",
   "pygments_lexer": "ipython3",
   "version": "3.6.2"
  }
 },
 "nbformat": 4,
 "nbformat_minor": 2
}

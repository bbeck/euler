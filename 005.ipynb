{
 "cells": [
  {
   "cell_type": "markdown",
   "metadata": {},
   "source": [
    "# Problem 5 \n",
    "\n",
    "2520 is the smallest number that can be divided by each of the numbers from 1 to 10 without any remainder.\n",
    "\n",
    "What is the smallest positive number that is evenly divisible by all of the numbers from 1 to 20?"
   ]
  },
  {
   "cell_type": "code",
   "execution_count": 3,
   "metadata": {},
   "outputs": [],
   "source": [
    "import io\n",
    "import itertools\n",
    "import requests\n",
    "import zipfile\n",
    "\n",
    "def primes(n=None, primes=[]):\n",
    "  if not primes:\n",
    "    for i in range(1, 10):\n",
    "      r = requests.get(\"http://primes.utm.edu/lists/small/millions/primes\" + str(i) + \".zip\")\n",
    "      z = zipfile.ZipFile(io.BytesIO(r.content))\n",
    "      bs = z.read(z.namelist()[0])\n",
    "      lines = bs.split(b\"\\n\")[2:]\n",
    "\n",
    "      for line in bs.split(b\"\\n\")[2:]:\n",
    "        for num in line.strip().split(b\" \"):\n",
    "          if not num:\n",
    "            continue\n",
    "\n",
    "          primes.append(int(num))\n",
    "\n",
    "  return itertools.takewhile(lambda x: x < n if n is not None else True, primes)"
   ]
  },
  {
   "cell_type": "code",
   "execution_count": 5,
   "metadata": {},
   "outputs": [
    {
     "data": {
      "text/plain": [
       "232792560"
      ]
     },
     "execution_count": 5,
     "metadata": {},
     "output_type": "execute_result"
    }
   ],
   "source": [
    "import collections\n",
    "\n",
    "def factors(n):\n",
    "  while n > 1:\n",
    "    for prime in primes(n+1):\n",
    "      if n % prime == 0:\n",
    "        yield prime\n",
    "        \n",
    "        n = n // prime\n",
    "        break\n",
    "\n",
    "needed = collections.defaultdict(int)\n",
    "for n in range(2, 20):\n",
    "  counts = collections.defaultdict(int)\n",
    "  \n",
    "  for factor in factors(n):\n",
    "    counts[factor] += 1\n",
    "\n",
    "  for factor, count in counts.items():\n",
    "    needed[factor] = max(needed[factor], counts[factor])\n",
    "    \n",
    "n = 1\n",
    "for factor, count in needed.items():\n",
    "  for i in range(count):\n",
    "    n *= factor\n",
    "\n",
    "n"
   ]
  }
 ],
 "metadata": {
  "kernelspec": {
   "display_name": "Python 3",
   "language": "python",
   "name": "python3"
  },
  "language_info": {
   "codemirror_mode": {
    "name": "ipython",
    "version": 3
   },
   "file_extension": ".py",
   "mimetype": "text/x-python",
   "name": "python",
   "nbconvert_exporter": "python",
   "pygments_lexer": "ipython3",
   "version": "3.6.2"
  }
 },
 "nbformat": 4,
 "nbformat_minor": 2
}
